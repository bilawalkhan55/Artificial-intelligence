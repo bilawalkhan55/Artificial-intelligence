{
  "nbformat": 4,
  "nbformat_minor": 0,
  "metadata": {
    "colab": {
      "provenance": [],
      "toc_visible": true
    },
    "kernelspec": {
      "name": "python3",
      "display_name": "Python 3"
    },
    "language_info": {
      "name": "python"
    }
  },
  "cells": [
    {
      "cell_type": "markdown",
      "source": [
        "# **List**"
      ],
      "metadata": {
        "id": "xkCqTX1wD12z"
      }
    },
    {
      "cell_type": "code",
      "source": [
        "# Function to calculate sum, maximum, and minimum\n",
        "def calculate(numbers):\n",
        "    total_sum = sum(numbers)\n",
        "    maximum_value = max(numbers)\n",
        "    minimum_value = min(numbers)\n",
        "\n",
        "    return total_sum, maximum_value, minimum_value\n",
        "\n",
        "# Main function with predefined values\n",
        "def main():\n",
        "    # Predefined list of numbers\n",
        "    numbers = [5, 12, 7, 3, 9, 15, 8]\n",
        "\n",
        "    # Call the calculate function\n",
        "    total_sum, maximum_value, minimum_value = calculate(numbers)\n",
        "\n",
        "    # Display the results\n",
        "    print(f\"Numbers: {numbers}\")\n",
        "    print(f\"Sum: {total_sum}\")\n",
        "    print(f\"Maximum: {maximum_value}\")\n",
        "    print(f\"Minimum: {minimum_value}\")\n",
        "\n",
        "# Run the program\n",
        "if __name__ == \"__main__\":\n",
        "    main()\n"
      ],
      "metadata": {
        "colab": {
          "base_uri": "https://localhost:8080/"
        },
        "id": "4OmOYeJtEgDC",
        "outputId": "17985c10-3529-4ab7-ea4f-69e95854c414"
      },
      "execution_count": 2,
      "outputs": [
        {
          "output_type": "stream",
          "name": "stdout",
          "text": [
            "Numbers: [5, 12, 7, 3, 9, 15, 8]\n",
            "Sum: 59\n",
            "Maximum: 15\n",
            "Minimum: 3\n"
          ]
        }
      ]
    },
    {
      "cell_type": "markdown",
      "source": [
        "# **Tuples**"
      ],
      "metadata": {
        "id": "E1XfCrHaD46U"
      }
    },
    {
      "cell_type": "code",
      "source": [
        "# Program to create a tuple of fruits\n",
        "def main():\n",
        "    # Creating a tuple of fruits\n",
        "    fruits = (\"apple\", \"banana\", \"cherry\", \"orange\", \"grape\")\n",
        "\n",
        "    # Displaying the tuple\n",
        "    print(\"Tuple of fruits:\", fruits)\n",
        "\n",
        "    # Accessing elements from the tuple\n",
        "    print(\"\\nAccessing elements from the tuple:\")\n",
        "    for fruit in fruits:\n",
        "        print(fruit)\n",
        "\n",
        "    # Example of accessing a specific fruit by index\n",
        "    print(\"\\nAccessing a specific fruit (index 2):\", fruits[2])  # This will print 'cherry'\n",
        "\n",
        "# Run the program\n",
        "if __name__ == \"__main__\":\n",
        "    main()\n"
      ],
      "metadata": {
        "colab": {
          "base_uri": "https://localhost:8080/"
        },
        "id": "qsbJ2SUoFF_M",
        "outputId": "15194b84-79ba-48e9-ae8d-18a16c05ef63"
      },
      "execution_count": 3,
      "outputs": [
        {
          "output_type": "stream",
          "name": "stdout",
          "text": [
            "Tuple of fruits: ('apple', 'banana', 'cherry', 'orange', 'grape')\n",
            "\n",
            "Accessing elements from the tuple:\n",
            "apple\n",
            "banana\n",
            "cherry\n",
            "orange\n",
            "grape\n",
            "\n",
            "Accessing a specific fruit (index 2): cherry\n"
          ]
        }
      ]
    },
    {
      "cell_type": "code",
      "source": [
        "# Program to create a tuple with characters 'a', 'b', 'c', 'd'\n",
        "def main():\n",
        "    # Creating the tuple\n",
        "    letters = ('a', 'b', 'c', 'd')\n",
        "\n",
        "    # Printing the tuple\n",
        "    print(\"Tuple contents:\", letters)\n",
        "\n",
        "# Run the program\n",
        "if __name__ == \"__main__\":\n",
        "    main()\n"
      ],
      "metadata": {
        "colab": {
          "base_uri": "https://localhost:8080/"
        },
        "id": "i_frWNHsFyoy",
        "outputId": "75c3f9dc-54dd-47ad-98d8-8354e758dbb2"
      },
      "execution_count": 7,
      "outputs": [
        {
          "output_type": "stream",
          "name": "stdout",
          "text": [
            "Tuple contents: ('a', 'b', 'c', 'd')\n"
          ]
        }
      ]
    },
    {
      "cell_type": "markdown",
      "source": [
        "# **Numpy**"
      ],
      "metadata": {
        "id": "Ey6aLTRrEcHz"
      }
    },
    {
      "cell_type": "markdown",
      "source": [
        "### **Sets**"
      ],
      "metadata": {
        "id": "N5DxCiH0D5Dc"
      }
    },
    {
      "cell_type": "code",
      "source": [
        "# Program to create sets with common and unique elements\n",
        "\n",
        "def main():\n",
        "    # Define two sets\n",
        "    set1 = {\"apple\", \"banana\", \"cherry\", \"mango\"}\n",
        "    set2 = {\"banana\", \"cherry\", \"orange\", \"grape\"}\n",
        "\n",
        "    # Display original sets\n",
        "    print(\"Set 1:\", set1)\n",
        "    print(\"Set 2:\", set2)\n",
        "\n",
        "    # Find common elements (intersection)\n",
        "    common_elements = set1.intersection(set2)\n",
        "    print(\"\\nCommon elements:\", common_elements)\n",
        "\n",
        "    # Find unique elements (symmetric difference)\n",
        "    unique_elements = set1.symmetric_difference(set2)\n",
        "    print(\"Unique elements (in either Set 1 or Set 2, but not both):\", unique_elements)\n",
        "\n",
        "# Run the program\n",
        "if __name__ == \"__main__\":\n",
        "    main()\n"
      ],
      "metadata": {
        "colab": {
          "base_uri": "https://localhost:8080/"
        },
        "id": "IWTVvITQJD65",
        "outputId": "ea12c8d7-7723-49fe-dc84-a0046d7f313c"
      },
      "execution_count": 8,
      "outputs": [
        {
          "output_type": "stream",
          "name": "stdout",
          "text": [
            "Set 1: {'cherry', 'mango', 'banana', 'apple'}\n",
            "Set 2: {'grape', 'cherry', 'banana', 'orange'}\n",
            "\n",
            "Common elements: {'cherry', 'banana'}\n",
            "Unique elements (in either Set 1 or Set 2, but not both): {'mango', 'orange', 'grape', 'apple'}\n"
          ]
        }
      ]
    },
    {
      "cell_type": "markdown",
      "source": [
        "# **Dictionaries**"
      ],
      "metadata": {
        "id": "BsM2-g5uD5MT"
      }
    },
    {
      "cell_type": "code",
      "source": [
        "# Program to print keys and values from a dictionary\n",
        "\n",
        "def main():\n",
        "    # Create a dictionary\n",
        "    fruits = {\n",
        "        \"apple\": \"red\",\n",
        "        \"banana\": \"yellow\",\n",
        "        \"grape\": \"purple\",\n",
        "        \"orange\": \"orange\"\n",
        "    }\n",
        "\n",
        "    # Print each key and value\n",
        "    print(\"Fruits and their colors:\")\n",
        "    for key, value in fruits.items():\n",
        "        print(f\"{key} -> {value}\")\n",
        "\n",
        "# Run the program\n",
        "if __name__ == \"__main__\":\n",
        "    main()\n"
      ],
      "metadata": {
        "colab": {
          "base_uri": "https://localhost:8080/"
        },
        "id": "xDyTD4JSJokC",
        "outputId": "312e7010-3be2-46e8-b13c-871043bd2640"
      },
      "execution_count": 9,
      "outputs": [
        {
          "output_type": "stream",
          "name": "stdout",
          "text": [
            "Fruits and their colors:\n",
            "apple -> red\n",
            "banana -> yellow\n",
            "grape -> purple\n",
            "orange -> orange\n"
          ]
        }
      ]
    },
    {
      "cell_type": "markdown",
      "source": [
        "# **Matplotlib**"
      ],
      "metadata": {
        "id": "w7-yf10aD5cj"
      }
    }
  ]
}