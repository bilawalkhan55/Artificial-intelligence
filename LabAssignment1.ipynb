{
  "nbformat": 4,
  "nbformat_minor": 0,
  "metadata": {
    "colab": {
      "provenance": [],
      "authorship_tag": "ABX9TyMZKgkVujvlqE1bGsyWzokB",
      "include_colab_link": true
    },
    "kernelspec": {
      "name": "python3",
      "display_name": "Python 3"
    },
    "language_info": {
      "name": "python"
    }
  },
  "cells": [
    {
      "cell_type": "markdown",
      "metadata": {
        "id": "view-in-github",
        "colab_type": "text"
      },
      "source": [
        "<a href=\"https://colab.research.google.com/github/bilawalkhan55/Artificial-intelligence/blob/main/LabAssignment1.ipynb\" target=\"_parent\"><img src=\"https://colab.research.google.com/assets/colab-badge.svg\" alt=\"Open In Colab\"/></a>"
      ]
    },
    {
      "cell_type": "markdown",
      "source": [],
      "metadata": {
        "id": "zLRNR3Kwz054"
      }
    },
    {
      "cell_type": "code",
      "execution_count": null,
      "metadata": {
        "id": "z-kjHD9eoWk9"
      },
      "outputs": [],
      "source": [
        "\n",
        "\n"
      ]
    },
    {
      "cell_type": "code",
      "source": [
        "# Step 1: Create a dictionary to store student information\n",
        "student = {\n",
        "    \"name\": \"Ali\",\n",
        "    \"age\": 20,\n",
        "    \"roll_number\": \"BSCS-101\",\n",
        "    \"grade\": \"B\"\n",
        "}\n",
        "\n",
        "# Step 2: Print all keys and values\n",
        "print(\"Initial Student Information:\")\n",
        "for key, value in student.items():\n",
        "    print(f\"{key}: {value}\")\n",
        "\n",
        "# Step 3: Update the grade of the student\n",
        "student[\"grade\"] = \"A\"\n",
        "print(\"\\nAfter Updating Grade:\")\n",
        "print(student)\n",
        "\n",
        "# Step 4: Add a new key 'email' with a value\n",
        "student[\"email\"] = \"ali@example.com\"\n",
        "print(\"\\nAfter Adding Email:\")\n",
        "print(student)\n",
        "\n",
        "# Step 5: Delete the 'roll_number' key\n",
        "del student[\"roll_number\"]\n",
        "print(\"\\nAfter Deleting roll_number:\")\n",
        "print(student)"
      ],
      "metadata": {
        "colab": {
          "base_uri": "https://localhost:8080/"
        },
        "id": "x9Pv8yfypNPV",
        "outputId": "6a1b6ae5-34e0-4ad5-d162-1ab67d9082d5"
      },
      "execution_count": 2,
      "outputs": [
        {
          "output_type": "stream",
          "name": "stdout",
          "text": [
            "Initial Student Information:\n",
            "name: Ali\n",
            "age: 20\n",
            "roll_number: BSCS-101\n",
            "grade: B\n",
            "\n",
            "After Updating Grade:\n",
            "{'name': 'Ali', 'age': 20, 'roll_number': 'BSCS-101', 'grade': 'A'}\n",
            "\n",
            "After Adding Email:\n",
            "{'name': 'Ali', 'age': 20, 'roll_number': 'BSCS-101', 'grade': 'A', 'email': 'ali@example.com'}\n",
            "\n",
            "After Deleting roll_number:\n",
            "{'name': 'Ali', 'age': 20, 'grade': 'A', 'email': 'ali@example.com'}\n"
          ]
        }
      ]
    },
    {
      "cell_type": "code",
      "source": [
        "# Step 1: Import the Matplotlib library\n",
        "import matplotlib.pyplot as plt\n",
        "\n",
        "# Step 2: Create data\n",
        "X = [1, 2, 3, 4, 5]\n",
        "Y = [2, 4, 6, 8, 10]\n",
        "\n",
        "# Step 3: Create a simple line plot\n",
        "plt.plot(X, Y, marker='o', color='b')\n",
        "\n",
        "# Add title and labels\n",
        "plt.title(\"Simple Line Plot\")\n",
        "plt.xlabel(\"X-axis\")\n",
        "plt.ylabel(\"Y-axis\")\n",
        "\n",
        "# Add grid lines\n",
        "plt.grid(True)\n",
        "\n",
        "# Display the plot\n",
        "plt.show()\n"
      ],
      "metadata": {
        "colab": {
          "base_uri": "https://localhost:8080/",
          "height": 472
        },
        "id": "T1wQM8gWp_qr",
        "outputId": "1b4e9603-ce50-436a-9c27-290bd393c6f2"
      },
      "execution_count": 3,
      "outputs": [
        {
          "output_type": "display_data",
          "data": {
            "text/plain": [
              "<Figure size 640x480 with 1 Axes>"
            ],
            "image/png": "[encoded data removed]"
          },
          "metadata": {}
        }
      ]
    },
    {
      "cell_type": "code",
      "source": [
        "from collections import deque\n",
        "import time\n",
        "import sys\n",
        "\n",
        "# Increase recursion limit for DFS\n",
        "sys.setrecursionlimit(10000)\n",
        "\n",
        "# Capacities of the two jugs\n",
        "X, Y = 4, 3\n",
        "goal = 2\n",
        "\n",
        "\n",
        "# -----------------------------\n",
        "# Helper function: possible next states\n",
        "# -----------------------------\n",
        "def get_next_states(x, y):\n",
        "    return [\n",
        "        (X, y),        # Fill Jug X\n",
        "        (x, Y),        # Fill Jug Y\n",
        "        (0, y),        # Empty Jug X\n",
        "        (x, 0),        # Empty Jug Y\n",
        "        (x - min(x, Y - y), y + min(x, Y - y)),  # Pour X -> Y\n",
        "        (x + min(y, X - x), y - min(y, X - x))   # Pour Y -> X\n",
        "    ]\n",
        "\n",
        "\n",
        "# -----------------------------\n",
        "# BFS Implementation\n",
        "# -----------------------------\n",
        "def bfs():\n",
        "    visited = set()\n",
        "    queue = deque([((0, 0), [])])  # (state, path)\n",
        "\n",
        "    start_time = time.time()\n",
        "    while queue:\n",
        "        (x, y), path = queue.popleft()\n",
        "\n",
        "        if (x, y) in visited:\n",
        "            continue\n",
        "        visited.add((x, y))\n",
        "\n",
        "        # Goal check\n",
        "        if x == goal or y == goal:\n",
        "            end_time = time.time()\n",
        "            return path + [(x, y)], len(visited), end_time - start_time\n",
        "\n",
        "        for next_state in get_next_states(x, y):\n",
        "            if next_state not in visited:\n",
        "                queue.append((next_state, path + [(x, y)]))\n",
        "\n",
        "    return None, len(visited), time.time() - start_time\n",
        "\n",
        "\n",
        "# -----------------------------\n",
        "# DFS Implementation\n",
        "# -----------------------------\n",
        "def dfs():\n",
        "    visited = set()\n",
        "    solution_path = []\n",
        "    found = False\n",
        "    start_time = time.time()\n",
        "\n",
        "    def dfs_recursive(x, y, path):\n",
        "        nonlocal found\n",
        "        if found or (x, y) in visited:\n",
        "            return\n",
        "        visited.add((x, y))\n",
        "        path.append((x, y))\n",
        "\n",
        "        # Goal check\n",
        "        if x == goal or y == goal:\n",
        "            solution_path.extend(path)\n",
        "            found = True\n",
        "            return\n",
        "\n",
        "        for next_state in get_next_states(x, y):\n",
        "            if next_state not in visited:\n",
        "                dfs_recursive(*next_state, path[:])  # copy path\n",
        "\n",
        "    dfs_recursive(0, 0, [])\n",
        "    end_time = time.time()\n",
        "    return solution_path, len(visited), end_time - start_time\n",
        "\n",
        "\n",
        "# -----------------------------\n",
        "# Run both and compare\n",
        "# -----------------------------\n",
        "bfs_path, bfs_steps, bfs_time = bfs()\n",
        "dfs_path, dfs_steps, dfs_time = dfs()\n",
        "\n",
        "print(\"=== WATER JUG PROBLEM COMPARISON ===\")\n",
        "print(\"\\nBFS Solution Path:\", bfs_path)\n",
        "print(f\"BFS Steps: {bfs_steps}, Time: {bfs_time:.6f} sec\")\n",
        "\n",
        "print(\"\\nDFS Solution Path:\", dfs_path)\n",
        "print(f\"DFS Steps: {dfs_steps}, Time: {dfs_time:.6f} sec\")\n",
        "\n",
        "print(\"\\nEstimated Memory Usage (roughly proportional to states explored):\")\n",
        "print(f\"BFS: {bfs_steps} states, DFS: {dfs_steps} states\")\n"
      ],
      "metadata": {
        "colab": {
          "base_uri": "https://localhost:8080/"
        },
        "id": "zQhZAh09qalO",
        "outputId": "bcc10c01-dca8-41ef-ecfb-44690c0c05b7"
      },
      "execution_count": 4,
      "outputs": [
        {
          "output_type": "stream",
          "name": "stdout",
          "text": [
            "=== WATER JUG PROBLEM COMPARISON ===\n",
            "\n",
            "BFS Solution Path: [(0, 0), (0, 3), (3, 0), (3, 3), (4, 2)]\n",
            "BFS Steps: 10, Time: 0.000054 sec\n",
            "\n",
            "DFS Solution Path: [(0, 0), (4, 0), (4, 3), (0, 3), (3, 0), (3, 3), (4, 2)]\n",
            "DFS Steps: 7, Time: 0.000037 sec\n",
            "\n",
            "Estimated Memory Usage (roughly proportional to states explored):\n",
            "BFS: 10 states, DFS: 7 states\n"
          ]
        }
      ]
    },
    {
      "cell_type": "code",
      "source": [
        "import heapq\n",
        "\n",
        "# Maze grid representation\n",
        "# 0 = open path, 1 = wall\n",
        "maze = [\n",
        "    [0, 1, 0, 0, 0, 0],\n",
        "    [0, 1, 0, 1, 1, 1],\n",
        "    [0, 0, 0, 0, 0, 1],\n",
        "    [0, 0, 1, 0, 0, 0],\n",
        "    [0, 0, 0, 0, 1, 0],\n",
        "    [1, 1, 1, 0, 0, 0],\n",
        "]\n",
        "\n",
        "start = (0, 0)  # A\n",
        "goal = (5, 5)   # Y\n",
        "\n",
        "# Manhattan Distance heuristic\n",
        "def heuristic(a, b):\n",
        "    return abs(a[0] - b[0]) + abs(a[1] - b[1])\n",
        "\n",
        "# A* Search\n",
        "def astar(maze, start, goal):\n",
        "    rows, cols = len(maze), len(maze[0])\n",
        "    open_list = []\n",
        "    heapq.heappush(open_list, (0 + heuristic(start, goal), 0, start, [start]))\n",
        "    visited = set()\n",
        "\n",
        "    while open_list:\n",
        "        f, g, current, path = heapq.heappop(open_list)\n",
        "\n",
        "        if current == goal:\n",
        "            return path\n",
        "\n",
        "        if current in visited:\n",
        "            continue\n",
        "        visited.add(current)\n",
        "\n",
        "        x, y = current\n",
        "        neighbors = [(x+1, y), (x-1, y), (x, y+1), (x, y-1)]\n",
        "\n",
        "        for nx, ny in neighbors:\n",
        "            if 0 <= nx < rows and 0 <= ny < cols and maze[nx][ny] == 0:\n",
        "                new_g = g + 1\n",
        "                new_f = new_g + heuristic((nx, ny), goal)\n",
        "                heapq.heappush(open_list, (new_f, new_g, (nx, ny), path + [(nx, ny)]))\n",
        "\n",
        "    return None\n",
        "\n",
        "# Run A*\n",
        "path = astar(maze, start, goal)\n",
        "print(\"A* Path from A to Y:\")\n",
        "print(path)\n"
      ],
      "metadata": {
        "colab": {
          "base_uri": "https://localhost:8080/"
        },
        "id": "DGIWhHYPq12j",
        "outputId": "a5bbbb45-3fe3-4d48-abc3-d430113f87a5"
      },
      "execution_count": 5,
      "outputs": [
        {
          "output_type": "stream",
          "name": "stdout",
          "text": [
            "A* Path from A to Y:\n",
            "[(0, 0), (1, 0), (2, 0), (2, 1), (2, 2), (2, 3), (2, 4), (3, 4), (3, 5), (4, 5), (5, 5)]\n"
          ]
        }
      ]
    }
  ]
}